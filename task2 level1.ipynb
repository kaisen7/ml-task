{
 "cells": [
  {
   "cell_type": "markdown",
   "id": "794a5a92-c456-4ee1-9870-fabb5a0a4add",
   "metadata": {},
   "source": [
    "#  TASK 2 OF THE ML TASK"
   ]
  },
  {
   "cell_type": "markdown",
   "id": "51268745-1f71-4e41-b00b-8d61ecbbe060",
   "metadata": {},
   "source": [
    "** i am using groq api for this task**"
   ]
  },
  {
   "cell_type": "markdown",
   "id": "d3108b68-631d-43b1-b4ef-82a6e755f7ca",
   "metadata": {},
   "source": [
    "#INSTALL ALL THE NECESSARY MODULES"
   ]
  },
  {
   "cell_type": "code",
   "execution_count": 481,
   "id": "2c8ea516-0eec-4a81-8bf7-0acbf56edba4",
   "metadata": {},
   "outputs": [
    {
     "name": "stdout",
     "output_type": "stream",
     "text": [
      "Requirement already satisfied: langgraph in c:\\users\\chara\\anaconda3\\lib\\site-packages (0.4.5)\n",
      "Requirement already satisfied: langchain in c:\\users\\chara\\anaconda3\\lib\\site-packages (0.3.25)\n",
      "Requirement already satisfied: langchain_groq in c:\\users\\chara\\anaconda3\\lib\\site-packages (0.3.2)\n",
      "Requirement already satisfied: requests in c:\\users\\chara\\anaconda3\\lib\\site-packages (2.32.3)\n",
      "Requirement already satisfied: langchain-core>=0.1 in c:\\users\\chara\\anaconda3\\lib\\site-packages (from langgraph) (0.3.60)\n",
      "Requirement already satisfied: langgraph-checkpoint<3.0.0,>=2.0.26 in c:\\users\\chara\\anaconda3\\lib\\site-packages (from langgraph) (2.0.26)\n",
      "Requirement already satisfied: langgraph-prebuilt>=0.1.8 in c:\\users\\chara\\anaconda3\\lib\\site-packages (from langgraph) (0.1.8)\n",
      "Requirement already satisfied: langgraph-sdk>=0.1.42 in c:\\users\\chara\\anaconda3\\lib\\site-packages (from langgraph) (0.1.69)\n",
      "Requirement already satisfied: pydantic>=2.7.4 in c:\\users\\chara\\anaconda3\\lib\\site-packages (from langgraph) (2.11.4)\n",
      "Requirement already satisfied: xxhash<4.0.0,>=3.5.0 in c:\\users\\chara\\anaconda3\\lib\\site-packages (from langgraph) (3.5.0)\n",
      "Requirement already satisfied: langchain-text-splitters<1.0.0,>=0.3.8 in c:\\users\\chara\\anaconda3\\lib\\site-packages (from langchain) (0.3.8)\n",
      "Requirement already satisfied: langsmith<0.4,>=0.1.17 in c:\\users\\chara\\anaconda3\\lib\\site-packages (from langchain) (0.3.42)\n",
      "Requirement already satisfied: SQLAlchemy<3,>=1.4 in c:\\users\\chara\\anaconda3\\lib\\site-packages (from langchain) (2.0.34)\n",
      "Requirement already satisfied: PyYAML>=5.3 in c:\\users\\chara\\anaconda3\\lib\\site-packages (from langchain) (6.0.1)\n",
      "Requirement already satisfied: groq<1,>=0.4.1 in c:\\users\\chara\\anaconda3\\lib\\site-packages (from langchain_groq) (0.25.0)\n",
      "Requirement already satisfied: charset-normalizer<4,>=2 in c:\\users\\chara\\anaconda3\\lib\\site-packages (from requests) (3.3.2)\n",
      "Requirement already satisfied: idna<4,>=2.5 in c:\\users\\chara\\anaconda3\\lib\\site-packages (from requests) (3.7)\n",
      "Requirement already satisfied: urllib3<3,>=1.21.1 in c:\\users\\chara\\anaconda3\\lib\\site-packages (from requests) (2.2.3)\n",
      "Requirement already satisfied: certifi>=2017.4.17 in c:\\users\\chara\\anaconda3\\lib\\site-packages (from requests) (2025.1.31)\n",
      "Requirement already satisfied: anyio<5,>=3.5.0 in c:\\users\\chara\\anaconda3\\lib\\site-packages (from groq<1,>=0.4.1->langchain_groq) (4.9.0)\n",
      "Requirement already satisfied: distro<2,>=1.7.0 in c:\\users\\chara\\anaconda3\\lib\\site-packages (from groq<1,>=0.4.1->langchain_groq) (1.9.0)\n",
      "Requirement already satisfied: httpx<1,>=0.23.0 in c:\\users\\chara\\anaconda3\\lib\\site-packages (from groq<1,>=0.4.1->langchain_groq) (0.28.1)\n",
      "Requirement already satisfied: sniffio in c:\\users\\chara\\anaconda3\\lib\\site-packages (from groq<1,>=0.4.1->langchain_groq) (1.3.0)\n",
      "Requirement already satisfied: typing-extensions<5,>=4.10 in c:\\users\\chara\\anaconda3\\lib\\site-packages (from groq<1,>=0.4.1->langchain_groq) (4.13.2)\n",
      "Requirement already satisfied: tenacity!=8.4.0,<10.0.0,>=8.1.0 in c:\\users\\chara\\anaconda3\\lib\\site-packages (from langchain-core>=0.1->langgraph) (8.2.3)\n",
      "Requirement already satisfied: jsonpatch<2.0,>=1.33 in c:\\users\\chara\\anaconda3\\lib\\site-packages (from langchain-core>=0.1->langgraph) (1.33)\n",
      "Requirement already satisfied: packaging<25,>=23.2 in c:\\users\\chara\\anaconda3\\lib\\site-packages (from langchain-core>=0.1->langgraph) (24.2)\n",
      "Requirement already satisfied: ormsgpack<2.0.0,>=1.8.0 in c:\\users\\chara\\anaconda3\\lib\\site-packages (from langgraph-checkpoint<3.0.0,>=2.0.26->langgraph) (1.9.1)\n",
      "Requirement already satisfied: orjson>=3.10.1 in c:\\users\\chara\\anaconda3\\lib\\site-packages (from langgraph-sdk>=0.1.42->langgraph) (3.10.18)\n",
      "Requirement already satisfied: requests-toolbelt<2.0.0,>=1.0.0 in c:\\users\\chara\\anaconda3\\lib\\site-packages (from langsmith<0.4,>=0.1.17->langchain) (1.0.0)\n",
      "Requirement already satisfied: zstandard<0.24.0,>=0.23.0 in c:\\users\\chara\\anaconda3\\lib\\site-packages (from langsmith<0.4,>=0.1.17->langchain) (0.23.0)\n",
      "Requirement already satisfied: annotated-types>=0.6.0 in c:\\users\\chara\\anaconda3\\lib\\site-packages (from pydantic>=2.7.4->langgraph) (0.6.0)\n",
      "Requirement already satisfied: pydantic-core==2.33.2 in c:\\users\\chara\\anaconda3\\lib\\site-packages (from pydantic>=2.7.4->langgraph) (2.33.2)\n",
      "Requirement already satisfied: typing-inspection>=0.4.0 in c:\\users\\chara\\anaconda3\\lib\\site-packages (from pydantic>=2.7.4->langgraph) (0.4.0)\n",
      "Requirement already satisfied: greenlet!=0.4.17 in c:\\users\\chara\\anaconda3\\lib\\site-packages (from SQLAlchemy<3,>=1.4->langchain) (3.0.1)\n",
      "Requirement already satisfied: httpcore==1.* in c:\\users\\chara\\anaconda3\\lib\\site-packages (from httpx<1,>=0.23.0->groq<1,>=0.4.1->langchain_groq) (1.0.2)\n",
      "Requirement already satisfied: h11<0.15,>=0.13 in c:\\users\\chara\\anaconda3\\lib\\site-packages (from httpcore==1.*->httpx<1,>=0.23.0->groq<1,>=0.4.1->langchain_groq) (0.14.0)\n",
      "Requirement already satisfied: jsonpointer>=1.9 in c:\\users\\chara\\anaconda3\\lib\\site-packages (from jsonpatch<2.0,>=1.33->langchain-core>=0.1->langgraph) (2.1)\n"
     ]
    }
   ],
   "source": [
    "!pip install langgraph langchain langchain_groq requests"
   ]
  },
  {
   "cell_type": "code",
   "execution_count": 482,
   "id": "e3cb04b0-0fc6-40de-be1c-d3f57e7a5e43",
   "metadata": {},
   "outputs": [],
   "source": [
    "from typing import Annotated, Sequence, TypedDict\n",
    "from dotenv import load_dotenv  \n",
    "from langchain_core.messages import BaseMessage # The foundational class for all message types in LangGraph\n",
    "from langchain_core.messages import ToolMessage # Passes data back to LLM after it calls a tool such as the content and the tool_call_id\n",
    "from langchain_core.messages import SystemMessage # Message for providing instructions to the LLM\n",
    "from langchain_openai import ChatOpenAI\n",
    "from langchain_core.tools import tool\n",
    "from langgraph.graph.message import add_messages\n",
    "from langgraph.graph import StateGraph, END\n",
    "from langgraph.prebuilt import ToolNode\n",
    "from langchain_core.tools import tool\n",
    "from langgraph.graph import StateGraph, END\n",
    "from langchain_core.messages import HumanMessage, AIMessage, ToolMessage\n",
    "from langchain_core.prompts import ChatPromptTemplate\n",
    "from langchain_groq import ChatGroq\n",
    "from typing import TypedDict, List\n",
    "import requests\n",
    "from datetime import datetime, timezone\n",
    "import os"
   ]
  },
  {
   "cell_type": "code",
   "execution_count": 483,
   "id": "8bae7dd2-b683-4269-89eb-86b74d361dfa",
   "metadata": {},
   "outputs": [],
   "source": [
    "import os\n",
    "os.environ[\"LANGCHAIN_API_KEY\"] = \"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\"\n",
    "os.environ[\"LANGCHAIN_TRACING_V2\"]=\"true\"\n",
    "os.environ[\"LANGCHAIN_PROJECT\"]=\"CourseLanggraph\""
   ]
  },
  {
   "cell_type": "code",
   "execution_count": 484,
   "id": "32db6d1e-62d4-425c-8f8d-78592d3186f2",
   "metadata": {},
   "outputs": [],
   "source": [
    "from langchain_groq import ChatGroq"
   ]
  },
  {
   "cell_type": "code",
   "execution_count": 485,
   "id": "61703d70-0674-4c5b-a07d-06517a196812",
   "metadata": {},
   "outputs": [
    {
     "data": {
      "text/plain": [
       "ChatGroq(client=<groq.resources.chat.completions.Completions object at 0x00000211947A3140>, async_client=<groq.resources.chat.completions.AsyncCompletions object at 0x00000211948FDFD0>, model_name='Gemma2-9b-It', model_kwargs={}, groq_api_key=SecretStr('**********'))"
      ]
     },
     "execution_count": 485,
     "metadata": {},
     "output_type": "execute_result"
    }
   ],
   "source": [
    "llm=ChatGroq(groq_api_key=\"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\",model_name=\"Gemma2-9b-It\")\n",
    "llm"
   ]
  },
  {
   "cell_type": "markdown",
   "id": "9a5197af-4c19-4a66-b0af-6ef9732ae054",
   "metadata": {},
   "source": [
    "# CREATE A STATE FUNCTION"
   ]
  },
  {
   "cell_type": "code",
   "execution_count": 486,
   "id": "60d21b03-900b-476f-b4c4-9b0cc3190afd",
   "metadata": {},
   "outputs": [],
   "source": [
    "class AgentState(TypedDict):\n",
    "    messages: Annotated[Sequence[BaseMessage], add_messages]"
   ]
  },
  {
   "cell_type": "markdown",
   "id": "621b5cd7-ddd9-4412-ad0c-2e427ffac135",
   "metadata": {},
   "source": [
    "#DEFINE A CALCULATOR TOOL FROM IMPORTED MODULES"
   ]
  },
  {
   "cell_type": "code",
   "execution_count": 487,
   "id": "f1189c1b-77a7-43d1-987f-e02ceb544b0b",
   "metadata": {},
   "outputs": [],
   "source": [
    "from langchain_core.tools import tool\n",
    "from math import sin, cos, tan\n",
    "\n",
    "@tool\n",
    "def calculator(expression: str) -> str:\n",
    "    \"\"\"Evaluates a mathematical expression following BODMAS rules.\"\"\"\n",
    "    try:\n",
    "        # Safely evaluate the expression with restricted globals and locals\n",
    "        result = eval(expression, {\"__builtins__\": {}}, {\"sin\": sin, \"cos\": cos, \"tan\": tan})\n",
    "        return f\"Result: {result}\"\n",
    "    except Exception as e:\n",
    "        return f\"Error: Invalid expression ({str(e)})\""
   ]
  },
  {
   "cell_type": "markdown",
   "id": "9aa17324-1d59-4568-974a-8802d00831cf",
   "metadata": {},
   "source": [
    "#CREATE a fashion recommendation tool"
   ]
  },
  {
   "cell_type": "code",
   "execution_count": 488,
   "id": "6a6d7a9a-5bf1-4540-954a-0fbf2a905642",
   "metadata": {},
   "outputs": [],
   "source": [
    "\n",
    "@tool\n",
    "def fashion_recommender(location: str) -> str:\n",
    "    \"\"\"Returns fashion trends for a given location.\"\"\"\n",
    "    trends = {\n",
    "        \"tokyo\": \"Streetwear with bold colors and layered outfits\",\n",
    "        \"new york\": \"Minimalist chic with neutral tones\",\n",
    "        \"paris\": \"Elegant dresses and tailored suits\"\n",
    "    }\n",
    "    return trends.get(location.lower(), \"No trend data available for this location\")"
   ]
  },
  {
   "cell_type": "markdown",
   "id": "912b592e-64bd-4448-8b18-88dc4052a248",
   "metadata": {},
   "source": [
    "#  CREATE A WHEATER TOOL"
   ]
  },
  {
   "cell_type": "code",
   "execution_count": 489,
   "id": "1ee6a103-5319-4089-8a7e-130ba0c83549",
   "metadata": {},
   "outputs": [],
   "source": [
    "import requests\n",
    "import json\n",
    "from datetime import datetime\n",
    "\n",
    "class WeatherExtractor:\n",
    "    def __init__(self, api_key):\n",
    "        self.api_key = api_key\n",
    "        self.base_url = \"https://api.openweathermap.org/data/2.5/weather\"\n",
    "\n",
    "    def fetch_weather(self, location):\n",
    "        \n",
    "        params = {\n",
    "            \"q\": location,\n",
    "            \"appid\": self.api_key,\n",
    "            \"units\": \"metric\"  \n",
    "        }\n",
    "\n",
    "       \n",
    "        try:\n",
    "            response = requests.get(self.base_url, params=params)\n",
    "            response.raise_for_status()  \n",
    "            weather_data = response.json()\n",
    "\n",
    "            \n",
    "            if weather_data.get(\"cod\") != 200:\n",
    "                return {\"error\": weather_data.get(\"message\", \"Unable to fetch weather data\")}\n",
    "\n",
    "            main = weather_data.get(\"main\", {})\n",
    "            weather = weather_data.get(\"weather\", [{}])[0]\n",
    "            wind = weather_data.get(\"wind\", {})\n",
    "            sys = weather_data.get(\"sys\", {})\n",
    "\n",
    "           \n",
    "            result = {\n",
    "                \"location\": f\"{weather_data.get('name', 'Unknown')}, {sys.get('country', 'Unknown')}\",\n",
    "                \"temperature\": main.get(\"temp\", \"N/A\"),\n",
    "                \"weather_description\": weather.get(\"description\", \"N/A\").capitalize(),\n",
    "             \"humidity\": main.get(\"humidity\", \"N/A\"),\n",
    "                \"wind_speed\": wind.get(\"speed\", \"N/A\"),\n",
    "                \"pressure\": main.get(\"pressure\", \"N/A\"),\n",
    "                \"timestamp\": datetime.utcfromtimestamp(weather_data.get(\"dt\", 0)).strftime('%Y-%m-%d %H:%M:%S UTC')\n",
    "            }\n",
    "            return result\n",
    "\n",
    "        except requests.exceptions.RequestException as e:\n",
    "            return {\"error\": f\"Failed to fetch weather data: {str(e)}\"}\n",
    "\n",
    "    def display_weather(self, weather_data):\n",
    "        if \"error\" in weather_data:\n",
    "            print(f\"Error: {weather_data['error']}\")\n",
    "        else:\n",
    "            print(f\"Current Weather in {weather_data['location']}:\")\n",
    "            print(f\"Temperature: {weather_data['temperature']}°C\")\n",
    "            print(f\"Condition: {weather_data['weather_description']}\")\n",
    "            print(f\"Humidity: {weather_data['humidity']}%\")\n",
    "            print(f\"Wind Speed: {weather_data['wind_speed']} m/s\")\n",
    "            print(f\"Pressure: {weather_data['pressure']} hPa\")\n",
    "            print(f\"Data Fetched At: {weather_data['timestamp']}\")\n",
    "\n",
    "@tool\n",
    "def weather_extractor(location: str) -> str:\n",
    "    \"\"\"Fetches current weather for a given location using OpenWeatherMap API.\"\"\" #doc tag\n",
    "    api_key = \"a6716270c6acf61ed82cbc850809c582\"  \n",
    "    weather_tool = WeatherExtractor(api_key)\n",
    "    weather_data = weather_tool.fetch_weather(location)\n",
    "    return weather_tool.display_weather(weather_data)\n",
    "\n"
   ]
  },
  {
   "cell_type": "code",
   "execution_count": 490,
   "id": "cb75daf2-bc25-413b-9c55-326b91c52419",
   "metadata": {},
   "outputs": [],
   "source": [
    "tools = [calculator,fashion_recommender,weather_extractor]"
   ]
  },
  {
   "cell_type": "markdown",
   "id": "449edd3b-ca08-4d8f-8b63-c575f56c618e",
   "metadata": {},
   "source": [
    "# BINDING THE TOOLS IS IMPORTANT"
   ]
  },
  {
   "cell_type": "code",
   "execution_count": 491,
   "id": "60e2a54a-54a0-41aa-a3a9-0a90dcda8b5a",
   "metadata": {},
   "outputs": [],
   "source": [
    "model = ChatGroq(model = \"Gemma2-9b-It\",api_key=\"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\").bind_tools(tools)"
   ]
  },
  {
   "cell_type": "markdown",
   "id": "2f7ac3ec-bdda-4c38-9e11-dc835ca21f9a",
   "metadata": {},
   "source": [
    "**create a state function to store messages**"
   ]
  },
  {
   "cell_type": "code",
   "execution_count": 492,
   "id": "a8c02667-36c2-4906-bfd2-592d1f7b75e5",
   "metadata": {},
   "outputs": [],
   "source": [
    "\n",
    "class State(TypedDict):\n",
    "    messages: List[HumanMessage | AIMessage | ToolMessage]\n",
    "\n",
    "def chatbot_node(state):\n",
    "    query = state[\"messages\"][-1].content  # Get the latest user query\n",
    "    prompt = ChatPromptTemplate.from_template(\"Answer the query: {query}\")\n",
    "    chain = prompt | llm_with_tools\n",
    "    response = chain.invoke({\"query\": query})\n",
    "    \n",
    "  \n",
    "    new_messages = state[\"messages\"]\n",
    "    \n",
    "  #if response had a tool call\n",
    "    if hasattr(response, \"tool_calls\") and response.tool_calls:\n",
    "        tool_call = response.tool_calls[0]\n",
    "        if tool_call[\"name\"] == \"weather_extractor\":\n",
    "            location = tool_call[\"args\"][\"location\"]\n",
    "            result = weather_extractor.invoke(location)\n",
    "            # Add ToolMessage with the correct tool call ID\n",
    "            new_messages += [\n",
    "                AIMessage(content=\"\", tool_calls=[tool_call]),\n",
    "                ToolMessage(content=result, tool_call_id=tool_call[\"id\"], name=\"weather_extractor\"),\n",
    "                AIMessage(content=result)\n",
    "            ]\n",
    "    else:\n",
    "        new_messages += [AIMessage(content=response.content)]\n",
    "    \n",
    "    return {\"messages\": new_messages}\n"
   ]
  },
  {
   "cell_type": "code",
   "execution_count": 493,
   "id": "cff44482-23cb-4122-a078-69d5764e114b",
   "metadata": {},
   "outputs": [
    {
     "data": {
      "text/plain": [
       "<langgraph.graph.state.StateGraph at 0x21194ad92b0>"
      ]
     },
     "execution_count": 493,
     "metadata": {},
     "output_type": "execute_result"
    }
   ],
   "source": [
    "# Build LangGraph workflow\n",
    "workflow = StateGraph(State)\n",
    "workflow.add_node(\"chatbot\", chatbot_node)\n",
    "workflow.set_entry_point(\"chatbot\")\n",
    "workflow.add_edge(\"chatbot\", END)"
   ]
  },
  {
   "cell_type": "markdown",
   "id": "b961be1b-34cf-4cd5-989c-ed004fd94942",
   "metadata": {},
   "source": [
    "**craeting the model**"
   ]
  },
  {
   "cell_type": "code",
   "execution_count": 494,
   "id": "2853afaa-7530-4aa6-a1f1-ab4453fc0018",
   "metadata": {},
   "outputs": [],
   "source": [
    "def model_call(state:AgentState) -> AgentState:\n",
    "    system_prompt = SystemMessage(content=\n",
    "        \"You are my AI assistant, please answer my query to the best of your ability.\"\n",
    "    )\n",
    "    response = model.invoke([system_prompt] + state[\"messages\"])\n",
    "    return {\"messages\": [response]}"
   ]
  },
  {
   "cell_type": "code",
   "execution_count": 495,
   "id": "8450ec00-e00d-4377-a698-6da4d56d4a70",
   "metadata": {},
   "outputs": [],
   "source": [
    "def should_continue(state: AgentState): \n",
    "    messages = state[\"messages\"]\n",
    "    last_message = messages[-1]\n",
    "    if not last_message.tool_calls: \n",
    "        return \"end\"\n",
    "    else:\n",
    "        return \"continue\""
   ]
  },
  {
   "cell_type": "code",
   "execution_count": 500,
   "id": "8ddc3ccf-cae9-474e-9863-a969d838c7ac",
   "metadata": {},
   "outputs": [
    {
     "data": {
      "text/plain": [
       "<langgraph.graph.state.StateGraph at 0x211941eec00>"
      ]
     },
     "execution_count": 500,
     "metadata": {},
     "output_type": "execute_result"
    }
   ],
   "source": [
    "graph = StateGraph(AgentState)\n",
    "graph.add_node(\"our_agent\", model_call)\n",
    "\n",
    "\n",
    "tool_node = ToolNode(tools=tools)\n",
    "graph.add_node(\"tools\", tool_node)"
   ]
  },
  {
   "cell_type": "code",
   "execution_count": 501,
   "id": "87af49e0-91db-4c9b-9c89-26beb6e3e8e5",
   "metadata": {},
   "outputs": [
    {
     "data": {
      "text/plain": [
       "<langgraph.graph.state.StateGraph at 0x211941eec00>"
      ]
     },
     "execution_count": 501,
     "metadata": {},
     "output_type": "execute_result"
    }
   ],
   "source": [
    "graph.set_entry_point(\"our_agent\")"
   ]
  },
  {
   "cell_type": "code",
   "execution_count": 502,
   "id": "68c6773d-6ec3-4618-9874-93a07df2b7af",
   "metadata": {},
   "outputs": [],
   "source": [
    "graph.add_conditional_edges(\n",
    "    \"our_agent\",\n",
    "    should_continue,\n",
    "    {\n",
    "        \"continue\": \"tools\",\n",
    "        \"end\": END,\n",
    "    },\n",
    ")\n",
    "\n",
    "graph.add_edge(\"tools\", \"our_agent\")\n",
    "\n",
    "app = graph.compile()"
   ]
  },
  {
   "cell_type": "markdown",
   "id": "95252977-4a55-4a97-978d-9f9a36848020",
   "metadata": {},
   "source": [
    "# THE GRAPH OF THE CHATBOT"
   ]
  },
  {
   "cell_type": "code",
   "execution_count": 503,
   "id": "ad85497d-f172-405e-a7cb-7e87c438576e",
   "metadata": {},
   "outputs": [
    {
     "data": {
      "image/png": "[encoded data removed]",
      "text/plain": [
       "<IPython.core.display.Image object>"
      ]
     },
     "metadata": {},
     "output_type": "display_data"
    }
   ],
   "source": [
    "from IPython.display import Image, display\n",
    "display(Image(app.get_graph().draw_mermaid_png()))"
   ]
  },
  {
   "cell_type": "code",
   "execution_count": 504,
   "id": "c4ed267f-b35c-49f8-94ff-b1f08b9301c3",
   "metadata": {},
   "outputs": [],
   "source": [
    "def print_stream(stream):\n",
    "    for s in stream:\n",
    "        message = s[\"messages\"][-1]\n",
    "        if isinstance(message, tuple):\n",
    "            print(message)\n",
    "        else:\n",
    "            message.pretty_print()"
   ]
  },
  {
   "cell_type": "code",
   "execution_count": 505,
   "id": "401d6dc6-ff51-4c7d-bb38-983147735691",
   "metadata": {},
   "outputs": [
    {
     "name": "stdout",
     "output_type": "stream",
     "text": [
      "================================\u001b[1m Human Message \u001b[0m=================================\n",
      "\n",
      "whats the weather in tokyo \n",
      "==================================\u001b[1m Ai Message \u001b[0m==================================\n",
      "Tool Calls:\n",
      "  weather_extractor (call_tv1k)\n",
      " Call ID: call_tv1k\n",
      "  Args:\n",
      "    location: Tokyo\n",
      "Current Weather in Tokyo, JP:\n",
      "Temperature: 15.14°C\n",
      "Condition: Heavy intensity rain\n",
      "Humidity: 93%\n",
      "Wind Speed: 4.12 m/s\n",
      "Pressure: 1005 hPa\n",
      "Data Fetched At: 2025-05-24 17:51:44 UTC\n"
     ]
    },
    {
     "name": "stderr",
     "output_type": "stream",
     "text": [
      "C:\\Users\\chara\\AppData\\Local\\Temp\\ipykernel_9572\\2715821610.py:41: DeprecationWarning: datetime.datetime.utcfromtimestamp() is deprecated and scheduled for removal in a future version. Use timezone-aware objects to represent datetimes in UTC: datetime.datetime.fromtimestamp(timestamp, datetime.UTC).\n",
      "  \"timestamp\": datetime.utcfromtimestamp(weather_data.get(\"dt\", 0)).strftime('%Y-%m-%d %H:%M:%S UTC')\n"
     ]
    },
    {
     "name": "stdout",
     "output_type": "stream",
     "text": [
      "=================================\u001b[1m Tool Message \u001b[0m=================================\n",
      "Name: weather_extractor\n",
      "\n",
      "null\n",
      "==================================\u001b[1m Ai Message \u001b[0m==================================\n",
      "\n",
      "I am sorry, but I do not have access to past conversation history. Please provide me with the necessary context or information.\n"
     ]
    }
   ],
   "source": [
    "inputs = {\"messages\": [(\"user\", \"whats the weather in tokyo \")]}\n",
    "print_stream(app.stream(inputs, stream_mode=\"values\"))"
   ]
  },
  {
   "cell_type": "code",
   "execution_count": 506,
   "id": "606e1d2c-e2ca-4dea-8a93-f057323244bb",
   "metadata": {},
   "outputs": [],
   "source": [
    "#NOW its time to add memory to it"
   ]
  },
  {
   "cell_type": "code",
   "execution_count": 527,
   "id": "a476ddeb-6227-4a44-8a86-69774f45f117",
   "metadata": {},
   "outputs": [],
   "source": [
    "from typing import TypedDict, List, Union"
   ]
  },
  {
   "cell_type": "code",
   "execution_count": 563,
   "id": "e0e4f3f8-f592-46b8-becc-18ab3114bf32",
   "metadata": {},
   "outputs": [],
   "source": [
    "# Import required libraries\n",
    "from langchain_core.tools import tool\n",
    "from langgraph.graph import StateGraph, END, START\n",
    "from langchain_core.messages import HumanMessage, AIMessage, ToolMessage\n",
    "from langchain_core.prompts import ChatPromptTemplate\n",
    "from langchain_groq import ChatGroq\n",
    "from typing import TypedDict, List\n",
    "import requests\n",
    "from datetime import datetime, timezone\n",
    "import os"
   ]
  },
  {
   "cell_type": "code",
   "execution_count": null,
   "id": "57b3e939-8d7e-4d5d-bce1-75d421d93d50",
   "metadata": {},
   "outputs": [],
   "source": []
  },
  {
   "cell_type": "code",
   "execution_count": null,
   "id": "3963ae6a-8267-483c-87a4-4f6206586ec3",
   "metadata": {},
   "outputs": [],
   "source": []
  },
  {
   "cell_type": "code",
   "execution_count": null,
   "id": "1754b40e-ac9b-462a-aa55-609e5a30710f",
   "metadata": {},
   "outputs": [],
   "source": []
  },
  {
   "cell_type": "code",
   "execution_count": null,
   "id": "782aed11-5c6b-420e-a4c5-95a999d08c3f",
   "metadata": {},
   "outputs": [],
   "source": []
  },
  {
   "cell_type": "code",
   "execution_count": 561,
   "id": "503b82e6-2c0b-412f-973a-8e16d882e6d3",
   "metadata": {},
   "outputs": [
    {
     "name": "stdout",
     "output_type": "stream",
     "text": [
      "================================\u001b[1m Human Message \u001b[0m=================================\n",
      "\n",
      "whats the weather in tokyo \n",
      "==================================\u001b[1m Ai Message \u001b[0m==================================\n",
      "Tool Calls:\n",
      "  weather_extractor (call_gmqt)\n",
      " Call ID: call_gmqt\n",
      "  Args:\n",
      "    location: tokyo\n"
     ]
    },
    {
     "name": "stderr",
     "output_type": "stream",
     "text": [
      "C:\\Users\\chara\\AppData\\Local\\Temp\\ipykernel_9572\\2715821610.py:41: DeprecationWarning: datetime.datetime.utcfromtimestamp() is deprecated and scheduled for removal in a future version. Use timezone-aware objects to represent datetimes in UTC: datetime.datetime.fromtimestamp(timestamp, datetime.UTC).\n",
      "  \"timestamp\": datetime.utcfromtimestamp(weather_data.get(\"dt\", 0)).strftime('%Y-%m-%d %H:%M:%S UTC')\n"
     ]
    },
    {
     "name": "stdout",
     "output_type": "stream",
     "text": [
      "Current Weather in Tokyo, JP:\n",
      "Temperature: 15.14°C\n",
      "Condition: Heavy intensity rain\n",
      "Humidity: 93%\n",
      "Wind Speed: 4.12 m/s\n",
      "Pressure: 1005 hPa\n",
      "Data Fetched At: 2025-05-24 18:08:29 UTC\n",
      "=================================\u001b[1m Tool Message \u001b[0m=================================\n",
      "Name: weather_extractor\n",
      "\n",
      "null\n",
      "==================================\u001b[1m Ai Message \u001b[0m==================================\n",
      "\n",
      "I apologize, I don't have access to past conversations or tool results.  Could you please try calling the weather_extractor tool again?\n"
     ]
    }
   ],
   "source": [
    "inputs = {\"messages\": [(\"user\", \"whats the weather in tokyo \")]}\n",
    "print_stream(app.stream(inputs, stream_mode=\"values\"))"
   ]
  },
  {
   "cell_type": "code",
   "execution_count": null,
   "id": "4839910f-ab4a-4ef7-a062-f770671f3f66",
   "metadata": {},
   "outputs": [],
   "source": []
  }
 ],
 "metadata": {
  "kernelspec": {
   "display_name": "Python [conda env:base] *",
   "language": "python",
   "name": "conda-base-py"
  },
  "language_info": {
   "codemirror_mode": {
    "name": "ipython",
    "version": 3
   },
   "file_extension": ".py",
   "mimetype": "text/x-python",
   "name": "python",
   "nbconvert_exporter": "python",
   "pygments_lexer": "ipython3",
   "version": "3.12.7"
  }
 },
 "nbformat": 4,
 "nbformat_minor": 5
}
